{
 "cells": [
  {
   "cell_type": "markdown",
   "metadata": {},
   "source": [
    "# Aula 8: DEPLOY DO PROJETO\n"
   ]
  },
  {
   "cell_type": "markdown",
   "metadata": {},
   "source": [
    "### O que é Deploy?"
   ]
  },
  {
   "cell_type": "markdown",
   "metadata": {},
   "source": [
    "Deploy é o processo de disponibilizar uma aplicação ou sistema para uso em um ambiente de produção, permitindo que usuários finais possam acessar e interagir com o serviço.\n",
    "\n",
    "O objetivo é colocar a aplicação em um servidor ou serviço de hospedagem para que ela possa ser acessada pela internet ou por uma rede interna."
   ]
  },
  {
   "cell_type": "markdown",
   "metadata": {},
   "source": [
    "### Tipos de Deploy:"
   ]
  },
  {
   "cell_type": "markdown",
   "metadata": {},
   "source": [
    "- Manual: O desenvolvedor faz o deploy manualmente, utilizando ferramentas como FTP ou Git.\n",
    "\n",
    "- Automatizado: O deploy é feito de forma automática por meio de pipelines, utilizando ferramentas como Jenkins, GitLab CI/CD, CircleCI, entre outras."
   ]
  },
  {
   "cell_type": "markdown",
   "metadata": {},
   "source": [
    "### Como Funciona um Servidor?"
   ]
  },
  {
   "cell_type": "markdown",
   "metadata": {},
   "source": [
    "Um servidor é um computador ou sistema que fornece serviços, recursos ou dados a outros computadores (clientes) através de uma rede.\n",
    "\n",
    "Tipos de Servidores:\n",
    "- Servidor Web: Responsável por hospedar e entregar páginas web (ex.: Apache, Nginx).\n",
    "- Servidor de Banco de Dados: Responsável por gerenciar e fornecer acesso a dados armazenados (ex.: PostgreSQL, MySQL).\n",
    "- Servidor de Aplicações: Hospeda o código da aplicação (ex.: Node.js, Python, Java).\n",
    "\n",
    "Funcionamento Básico:\n",
    "- O servidor aguarda requisições de clientes e responde com os dados ou serviços solicitados.\n",
    "- O servidor pode ser configurado para aceitar conexões de diferentes protocolos, como HTTP/HTTPS, FTP, SSH, etc.\n",
    "\n",
    "Configuração Básica de Servidor:\n",
    "- Instalação do sistema operacional (ex.: Linux, Windows Server).\n",
    "- Instalação de software necessário (ex.: servidor web, banco de dados).\n",
    "- Configuração de firewall e segurança para garantir o acesso controlado.\n",
    "\n"
   ]
  },
  {
   "cell_type": "markdown",
   "metadata": {},
   "source": [
    "### Como Configurar o Supabase para Acesso a Banco de Dados?"
   ]
  },
  {
   "cell_type": "markdown",
   "metadata": {},
   "source": [
    "O Supabase é uma plataforma de backend como serviço (BaaS) que oferece uma maneira fácil de configurar um banco de dados PostgreSQL com autenticação, APIs em tempo real e armazenamento de arquivos.\n",
    "\n",
    "Passos para configurar o Supabase:\n",
    "\n",
    "Criando uma Conta no Supabase:\n",
    "\n",
    "Acesse Supabase (https://supabase.com/) e crie uma conta gratuita.\n",
    "Após login, crie um novo projeto.\n",
    "Configurando o Banco de Dados:\n",
    "\n",
    "Após criar o projeto, o Supabase fornecerá um banco de dados PostgreSQL pré-configurado.\n",
    "Você poderá visualizar as tabelas no painel do Supabase e executar consultas SQL diretamente no navegador."
   ]
  },
  {
   "cell_type": "markdown",
   "metadata": {},
   "source": [
    "### Deploy de FastAPI no Render:"
   ]
  },
  {
   "cell_type": "markdown",
   "metadata": {},
   "source": [
    "- Criação de Conta: Crie uma conta gratuita no Render (https://dashboard.render.com/login).\n",
    "- Suba o Código para o GitHub: Seu código de aplicação Python (com FastAPI) deve estar em um repositório no GitHub (ou GitLab).\n",
    "- Crie um Novo Serviço Web:\n",
    "- Acesse o painel do Render e clique em \"New Web Service\".\n",
    "- Conecte seu repositório GitHub ou GitLab.\n",
    "- Escolha o tipo de aplicação (por exemplo, \"Python\" ou \"Docker\" caso esteja usando Docker).\n",
    "- Render detectará automaticamente a estrutura do projeto.\n",
    "- Configuração do Ambiente: Adicione variáveis de ambiente e defina dependências do seu projeto (como requirements.txt ou Dockerfile).\n",
    "- Deploy: Clique em \"Create Web Service\", e o Render fará o deploy da sua aplicação FastAPI."
   ]
  },
  {
   "cell_type": "markdown",
   "metadata": {},
   "source": [
    "## Atividade prática: Criar uma API de gerenciamento de usuários e tarefas com autenticação, banco de dados e deploy funcional.\n",
    "\n"
   ]
  },
  {
   "cell_type": "markdown",
   "metadata": {},
   "source": []
  }
 ],
 "metadata": {
  "language_info": {
   "name": "python"
  }
 },
 "nbformat": 4,
 "nbformat_minor": 2
}
