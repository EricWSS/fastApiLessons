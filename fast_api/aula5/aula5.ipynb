{
 "cells": [
  {
   "cell_type": "markdown",
   "metadata": {},
   "source": [
    "# Aula 5: Autenticação e Segurança"
   ]
  },
  {
   "cell_type": "markdown",
   "metadata": {},
   "source": [
    "As APIs desempenham um papel crucial na comunicação entre sistemas e aplicações modernas, permitindo o acesso a dados e serviços de maneira eficiente e escalável. Porém, essa exposição também as torna um alvo atrativo para ataques cibernéticos. Garantir que uma API seja segura de acessar não é apenas uma questão de proteger dados sensíveis, mas também de preservar a confiabilidade da aplicação e evitar danos à reputação e perdas financeiras."
   ]
  },
  {
   "cell_type": "markdown",
   "metadata": {},
   "source": [
    "### Por que a segurança em APIs é essencial?\n"
   ]
  },
  {
   "cell_type": "markdown",
   "metadata": {},
   "source": [
    "- Proteção de Dados Sensíveis: APIs frequentemente lidam com informações confidenciais, como dados pessoais, senhas ou transações financeiras. A exposição desses dados pode levar a violações de privacidade e problemas legais.\n",
    "\n",
    "- Prevenção de Ataques: Vulnerabilidades em APIs podem ser exploradas por ataques como injeção de SQL, falsificação de requisições (CSRF) ou força bruta, comprometendo a integridade do sistema.\n",
    "\n",
    "- Conformidade Legal: Regulamentações como a LGPD (Lei Geral de Proteção de Dados) ou GDPR (General Data Protection Regulation) exigem práticas seguras de manipulação de dados.\n",
    "\n",
    "- Confiança do Usuário: Uma API segura reforça a confiança dos usuários e parceiros na plataforma, enquanto falhas podem afastá-los."
   ]
  },
  {
   "cell_type": "markdown",
   "metadata": {},
   "source": [
    "## Expandindo o projeto\n",
    "\n",
    "Nosso projeto com _TO-DO LIST_ está ficando robusto e por isso precisamos reestruturar em submódulos onde a intenção é que cada rota fique em um arquivo diferente:\n",
    "\n",
    "```markdown\n",
    "sua_pasta_do_projeto/\n",
    "├── main.py\n",
    "├── routers/\n",
    "│   ├── __init__.py\n",
    "│   ├── users.py\n",
    "│   ├── tasks.py\n",
    "├── models/\n",
    "│   ├── __init__.py\n",
    "│   ├── user.py\n",
    "│   ├── task.py\n",
    "├── schemas/\n",
    "│   ├── __init__.py\n",
    "│   ├── user.py\n",
    "│   ├── task.py\n",
    "├── db/\n",
    "│   ├── __init__.py\n",
    "│   ├── database.py\n",
    "├── auth/\n",
    "│   ├── __init__.py\n",
    "│   ├── jwt_handler.py\n",
    "│   ├── dependencies.py\n",
    "\n",
    "```\n",
    "\n",
    "\n"
   ]
  },
  {
   "cell_type": "markdown",
   "metadata": {},
   "source": [
    "A intenção de reestruturar o projeto é para fornecer novas _features_ como a de \"Login de usuários\" então para acessar as outras rotas do seu projeto, primeiramente precisamos autenticar se o usuário e a senha fornecida estão inseridas no nosso banco de dados."
   ]
  },
  {
   "cell_type": "markdown",
   "metadata": {},
   "source": [
    "### Recursos do FastAPI para Segurança"
   ]
  },
  {
   "cell_type": "markdown",
   "metadata": {},
   "source": [
    "O FastAPI fornece ferramentas robustas e integradas para implementar segurança em APIs, garantindo conformidade com as melhores práticas do setor.\n",
    "\n",
    "#### Autenticação com OAuth2\n",
    "\n",
    "- O FastAPI facilita a implementação de OAuth2, um dos protocolos mais utilizados para autenticação e autorização. Ele inclui suporte para fluxos de autenticação com OAuth2PasswordBearer, permitindo que aplicações identifiquem usuários por meio de tokens seguros.\n",
    "\n",
    "- Documentação interativa ajuda a visualizar o fluxo de autenticação diretamente no Swagger UI.\n"
   ]
  },
  {
   "cell_type": "markdown",
   "metadata": {},
   "source": [
    "#### JSON Web Tokens (JWT)\n",
    "\n",
    "- O JWT é uma forma eficiente e segura de autenticar usuários, gerando tokens que carregam informações do usuário de maneira compacta e verificável.\n",
    "\n",
    "- No FastAPI, a biblioteca python-jose pode ser usada para criar e validar tokens, garantindo que apenas usuários autorizados tenham acesso a determinados recursos.\n",
    "\n",
    "\n"
   ]
  },
  {
   "cell_type": "markdown",
   "metadata": {},
   "source": [
    "\n",
    "### Gerenciamento de Permissões (RBAC)\n",
    "\n",
    "FastAPI permite implementar sistemas de autorização que controlam quem pode acessar ou modificar determinados recursos, com base em funções ou níveis de acesso.\n"
   ]
  },
  {
   "cell_type": "markdown",
   "metadata": {},
   "source": [
    "### Criptografia de Dados\n",
    "\n",
    "Dados sensíveis, como senhas, devem ser sempre armazenados de forma criptografada. O FastAPI pode integrar-se facilmente com bibliotecas como bcrypt para hash de senhas e python-jose para criptografia de tokens.\n"
   ]
  },
  {
   "cell_type": "markdown",
   "metadata": {},
   "source": [
    "### Proteção Contra Ataques de Cross-Site\n",
    "\n",
    "O FastAPI fornece suporte para configurar cabeçalhos de segurança como CORS (Cross-Origin Resource Sharing), prevenindo que aplicações não autorizadas acessem a API.\n"
   ]
  },
  {
   "cell_type": "markdown",
   "metadata": {},
   "source": [
    "### Rate Limiting e Monitoramento\n",
    "\n",
    "Embora não nativo do FastAPI, é possível integrar ferramentas externas para limitar o número de requisições por usuário, mitigando ataques de força bruta ou DDoS.\n",
    "\n",
    "\n"
   ]
  },
  {
   "cell_type": "markdown",
   "metadata": {},
   "source": [
    "### Validação Automática de Dados\n",
    "\n",
    "O uso de Pydantic para validação de entradas impede que dados malformados ou maliciosos sejam processados pela API.\n"
   ]
  },
  {
   "cell_type": "markdown",
   "metadata": {},
   "source": [
    "## Conceitos de autenticação e autorização.\n"
   ]
  },
  {
   "cell_type": "markdown",
   "metadata": {},
   "source": [
    "## Atividade prática: Adicionar autenticação e proteção de rotas na API de tarefas.\n",
    "\n"
   ]
  },
  {
   "cell_type": "markdown",
   "metadata": {},
   "source": []
  },
  {
   "cell_type": "markdown",
   "metadata": {},
   "source": []
  },
  {
   "cell_type": "markdown",
   "metadata": {},
   "source": []
  }
 ],
 "metadata": {
  "language_info": {
   "name": "python"
  }
 },
 "nbformat": 4,
 "nbformat_minor": 2
}
