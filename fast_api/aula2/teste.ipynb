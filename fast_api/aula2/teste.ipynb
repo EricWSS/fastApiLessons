{
 "cells": [
  {
   "cell_type": "code",
   "execution_count": 5,
   "metadata": {},
   "outputs": [
    {
     "name": "stdout",
     "output_type": "stream",
     "text": [
      "eu\n"
     ]
    }
   ],
   "source": [
    "dicionario = {'nome':'eu'}\n",
    "\n",
    "print(dicionario.get('nome','usuário'))"
   ]
  },
  {
   "cell_type": "code",
   "execution_count": 1,
   "metadata": {},
   "outputs": [
    {
     "name": "stdout",
     "output_type": "stream",
     "text": [
      "200\n",
      "{'date': 'Mon, 06 Jan 2025 23:29:58 GMT', 'server': 'uvicorn', 'content-length': '54', 'content-type': 'application/json'}\n",
      "{\"message\":\"Tarefa 'Tomar banho' criada com sucesso!\"}\n"
     ]
    }
   ],
   "source": [
    "import requests\n",
    "\n",
    "url = 'http://127.0.0.1:8000/tasks'\n",
    "headers = {'Content-Type': 'application/json'}\n",
    "json = {'task':'Tomar banho'}\n",
    "\n",
    "\n",
    "resposta = requests.post(url, headers=headers,params=json)\n",
    "\n",
    "print(resposta.status_code)\n",
    "print(resposta.headers)\n",
    "print(resposta.text)"
   ]
  },
  {
   "cell_type": "code",
   "execution_count": null,
   "metadata": {},
   "outputs": [],
   "source": [
    "import requests\n",
    "\n",
    "url_get = 'http://127.0.0.1:8000/tasks'\n",
    "\n",
    "resposta_get = requests.get(url_get)\n",
    "print(resposta_get.status_code)\n",
    "print(resposta_get.headers)\n",
    "print(resposta_get.text)"
   ]
  },
  {
   "cell_type": "code",
   "execution_count": null,
   "metadata": {},
   "outputs": [],
   "source": []
  },
  {
   "cell_type": "code",
   "execution_count": null,
   "metadata": {},
   "outputs": [],
   "source": []
  },
  {
   "cell_type": "code",
   "execution_count": null,
   "metadata": {},
   "outputs": [],
   "source": []
  }
 ],
 "metadata": {
  "kernelspec": {
   "display_name": "Python 3",
   "language": "python",
   "name": "python3"
  },
  "language_info": {
   "codemirror_mode": {
    "name": "ipython",
    "version": 3
   },
   "file_extension": ".py",
   "mimetype": "text/x-python",
   "name": "python",
   "nbconvert_exporter": "python",
   "pygments_lexer": "ipython3",
   "version": "3.12.1"
  }
 },
 "nbformat": 4,
 "nbformat_minor": 2
}
