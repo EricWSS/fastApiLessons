{
 "cells": [
  {
   "cell_type": "markdown",
   "metadata": {},
   "source": [
    "# Aula 3: Testando APIs com Postman"
   ]
  },
  {
   "cell_type": "markdown",
   "metadata": {},
   "source": [
    "## Introdução ao Postman: instalação e configuração.\n"
   ]
  },
  {
   "cell_type": "markdown",
   "metadata": {},
   "source": [
    "O Postman é uma ferramenta popular e poderosa utilizada por desenvolvedores para testar, desenvolver e documentar APIs. Ele funciona como um cliente HTTP, permitindo que você envie requisições HTTP (GET, POST, PUT, DELETE, etc.) para servidores e veja as respostas recebidas. Em resumo, o Postman é como um navegador, mas focado especificamente em interagir com APIs."
   ]
  },
  {
   "cell_type": "markdown",
   "metadata": {},
   "source": [
    "### Instalação:"
   ]
  },
  {
   "cell_type": "markdown",
   "metadata": {},
   "source": [
    "- Acesse o site oficial do Postman: Vá para https://www.postman.com/downloads/.\n",
    "\n",
    "- Escolha a versão para o seu sistema: O site irá detectar automaticamente o seu sistema operacional e oferecer a versão mais adequada. Caso não detecte corretamente, você pode escolher manualmente entre as opções disponíveis (Windows, macOS ou Linux).\n",
    "\n",
    "- Baixe o instalador: Clique no botão de download para iniciar o download do arquivo de instalação.\n",
    "\n",
    "- Execute o instalador: Localize o arquivo baixado e execute-o. Siga as instruções do instalador para concluir a instalação.\n",
    "\n",
    "__*Considerações importantes:*__\n",
    "\n",
    "- Versões: O Postman oferece versões gratuitas e pagas. A versão gratuita já possui muitas funcionalidades úteis para a maioria dos desenvolvedores.\n",
    "\n",
    "- Alternativas: Além do Postman, existem outras ferramentas semelhantes, como Insomnia e curl. Você pode escolher a que melhor se adapta às suas necessidades.\n",
    "\n"
   ]
  },
  {
   "cell_type": "markdown",
   "metadata": {},
   "source": [
    "## Teste de endpoints criados na aula anterior.\n"
   ]
  },
  {
   "cell_type": "markdown",
   "metadata": {},
   "source": [
    "# Um pouco sobre banco de dados.\n",
    "\n"
   ]
  },
  {
   "cell_type": "markdown",
   "metadata": {},
   "source": [
    "## Tipos de bancos de dados:"
   ]
  },
  {
   "cell_type": "markdown",
   "metadata": {},
   "source": [
    "Os bancos de dados são estruturas essenciais para armazenar e organizar grandes volumes de dados de forma eficiente. Existem diversos tipos de bancos de dados, cada um com suas características e aplicações específicas. A escolha do tipo de banco de dados ideal depende das necessidades do seu projeto, como o tipo de dados a serem armazenados, a quantidade de dados, o nível de complexidade das consultas e as exigências de desempenho."
   ]
  },
  {
   "cell_type": "markdown",
   "metadata": {},
   "source": [
    "### Bancos de Dados Relacionais (SQL):\n",
    "\n"
   ]
  },
  {
   "cell_type": "markdown",
   "metadata": {},
   "source": [
    "- Estrutura: Os dados são organizados em tabelas, com linhas (registros) e colunas (campos). As relações entre as tabelas são definidas por chaves estrangeiras.\n",
    "- Linguagem: Utilizam a linguagem SQL (Structured Query Language) para realizar consultas, inserções, atualizações e exclusões de dados.\n",
    "- Exemplos: MySQL, PostgreSQL, SQL Server, Oracle.\n",
    "- Vantagens: Estrutura clara e organizada, facilidade de gerenciamento, suporte a transações e integridade de dados.\n",
    "- Desvantagens: Podem ter desempenho reduzido para grandes volumes de dados não estruturados ou para aplicações que exigem alta escalabilidade."
   ]
  },
  {
   "cell_type": "markdown",
   "metadata": {},
   "source": [
    "### Bancos de Dados Não Relacionais (NoSQL)\n"
   ]
  },
  {
   "cell_type": "markdown",
   "metadata": {},
   "source": [
    "- Estrutura: Não utilizam tabelas e schemas rígidos. Os dados podem ser armazenados em diferentes formatos, como documentos, chave-valor ou grafos.\n",
    "- Linguagem: Não utilizam SQL, mas possuem suas próprias linguagens de consulta.\n",
    "- Exemplos: MongoDB, Cassandra, Redis, Couchbase.\n",
    "- Vantagens: Alta escalabilidade, flexibilidade para diferentes tipos de dados, desempenho superior para grandes volumes de dados e aplicações de alta performance.\n",
    "- Desvantagens: Menor maturidade em relação aos bancos de dados relacionais, complexidade maior para algumas operações e menor suporte a transações complexas."
   ]
  },
  {
   "cell_type": "markdown",
   "metadata": {},
   "source": [
    "### Quando escolher cada tipo?\n",
    "\n"
   ]
  },
  {
   "cell_type": "markdown",
   "metadata": {},
   "source": [
    "- Bancos de dados relacionais: Ideais para aplicações que exigem alta integridade de dados, transações complexas e consultas estruturadas. São amplamente utilizados em sistemas de gestão empresarial (ERP), sistemas de gestão de relacionamento com o cliente (CRM) e bancos.\n",
    "- Bancos de dados não relacionais: Ideais para aplicações que exigem alta escalabilidade, flexibilidade para diferentes tipos de dados e alto desempenho. São utilizados em aplicações de big data, Internet das Coisas (IoT), jogos online e redes sociais."
   ]
  },
  {
   "cell_type": "markdown",
   "metadata": {},
   "source": [
    "### Instalando o MySQL"
   ]
  },
  {
   "cell_type": "markdown",
   "metadata": {},
   "source": [
    "O MySQL é um dos sistemas de gerenciamento de banco de dados relacionais (SGBDR) mais populares e utilizados no mundo. Sua instalação pode variar dependendo do sistema operacional que você utiliza (Windows, Linux, macOS) e da versão do MySQL.\n",
    "\n"
   ]
  },
  {
   "cell_type": "markdown",
   "metadata": {},
   "source": [
    "- Acesse o site oficial do MySQL: https://dev.mysql.com/downloads/installer/\n",
    "- Escolha a versão mais recente e compatível com o seu sistema.\n",
    "- Execute o arquivo baixado.\n",
    "- Siga as instruções do assistente de instalação, escolhendo as opções desejadas, como o tipo de instalação (típica, personalizada), local de instalação e componentes adicionais."
   ]
  },
  {
   "cell_type": "markdown",
   "metadata": {},
   "source": [
    "### Operações com MySQL "
   ]
  },
  {
   "cell_type": "markdown",
   "metadata": {},
   "source": [
    "#### Criando estruturas:"
   ]
  },
  {
   "cell_type": "markdown",
   "metadata": {},
   "source": [
    "- Criar um banco de dados:\n",
    "\n",
    "```sql \n",
    "CREATE DATABASE meu_banco_de_dados;\n",
    "```\n",
    "\n",
    "\n",
    "- Criar uma tabela:\n",
    "\n",
    "```sql \n",
    "CREATE TABLE usuarios (\n",
    "    id INT PRIMARY KEY AUTO_INCREMENT,\n",
    "    nome VARCHAR(50),\n",
    "    email VARCHAR(100)\n",
    ");\n",
    "```\n",
    "\n"
   ]
  },
  {
   "cell_type": "markdown",
   "metadata": {},
   "source": [
    "#### Crud de dados"
   ]
  },
  {
   "cell_type": "markdown",
   "metadata": {},
   "source": [
    "1. Inserindo dados (CREATE):\n",
    "```sql\n",
    "INSERT INTO usuarios (nome, email) VALUES ('João da Silva', 'joao@email.com');\n",
    "```\n",
    "2. Lendo dados (READ):\n",
    "- Todas as colunas da tabela:\n",
    "```sql\n",
    "SELECT * FROM usuarios;\n",
    "```\n",
    "- Colunas específicas da tabela:\n",
    "```sql\n",
    "SELECT nome, email FROM usuarios WHERE id = 1;\n",
    "```\n",
    "3. Atualizando dados (UPDADE):\n",
    "```sql\n",
    "UPDATE usuarios SET email = 'novoemail@email.com' WHERE id = 1;\n",
    "```\n",
    "4. Deletando dados (DELETE):\n",
    "```sql\n",
    "DELETE FROM usuarios WHERE id = 1;\n",
    "```\n",
    "\n"
   ]
  },
  {
   "cell_type": "markdown",
   "metadata": {},
   "source": [
    "# Desafio:"
   ]
  },
  {
   "cell_type": "markdown",
   "metadata": {},
   "source": [
    "Faça com que a api da aula anterior seja atualizada para que o CRUD ocorra no banco de dados."
   ]
  }
 ],
 "metadata": {
  "language_info": {
   "name": "python"
  }
 },
 "nbformat": 4,
 "nbformat_minor": 2
}
