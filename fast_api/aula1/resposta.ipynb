{
 "cells": [
  {
   "cell_type": "markdown",
   "metadata": {},
   "source": [
    "```python\n",
    "from fastapi import FastAPI\n",
    "\n",
    "app = FastAPI()\n",
    "\n",
    "@app.get(\"/somar\")\n",
    "async def somar(a: int, b: int):\n",
    "    return {\"resultado\": a + b}\n",
    "\n",
    "@app.get(\"/subtrair\")\n",
    "async def subtrair(a: int, b: int):\n",
    "    return {\"resultado\": a - b}\n",
    "\n",
    "@app.get(\"/multiplicar\")\n",
    "async def multiplicar(a: int, b: int):\n",
    "    return {\"resultado\": a * b}\n",
    "\n",
    "@app.get(\"/dividir\")\n",
    "async def dividir(a: int, b: int):\n",
    "    if b == 0:\n",
    "        return {\"erro\": \"Divisão por zero\"}\n",
    "    return {\"resultado\": a / b}\n",
    "```"
   ]
  },
  {
   "cell_type": "markdown",
   "metadata": {},
   "source": [
    "## Por que usar funções assíncronas?\n",
    "\n",
    "A utilização de funções assíncronas (assinaladas com async def) no FastAPI não é apenas uma opção, mas sim uma recomendação forte para tirar o máximo proveito do framework.\n",
    "\n"
   ]
  },
  {
   "cell_type": "markdown",
   "metadata": {},
   "source": [
    "- Concorrência: O FastAPI é projetado para lidar com muitas requisições simultâneas. Ao utilizar funções assíncronas, você permite que o framework execute várias tarefas ao mesmo tempo, sem bloquear a execução principal. Isso significa que sua API pode responder a mais requisições por segundo, melhorando o desempenho.\n",
    "\n",
    "- I/O: Muitas operações em uma API web envolvem I/O (input/output), como acessar bancos de dados, fazer chamadas para outras APIs ou ler/escrever arquivos. Essas operações podem ser demoradas. As funções assíncronas permitem que o Python continue a executar outras tarefas enquanto aguarda a conclusão dessas operações de I/O, evitando que a aplicação fique bloqueada.\n",
    "\n",
    "- Integração com Bibliotecas Assíncronas: Muitas bibliotecas Python modernas, como aiohttp para fazer requisições HTTP, são assíncronas. Ao utilizar funções assíncronas em sua API, você pode integrá-las de forma mais eficiente.\n",
    "Exemplo prático:\n",
    "\n",
    "Imagine que sua API precise acessar um banco de dados para obter informações antes de retornar uma resposta. Sem funções assíncronas, a aplicação ficaria bloqueada enquanto espera a resposta do banco de dados, impedindo que outras requisições sejam atendidas. Com funções assíncronas, a aplicação pode continuar a atender outras requisições enquanto aguarda a resposta do banco de dados."
   ]
  }
 ],
 "metadata": {
  "language_info": {
   "name": "python"
  }
 },
 "nbformat": 4,
 "nbformat_minor": 2
}
