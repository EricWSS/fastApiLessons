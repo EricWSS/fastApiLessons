{
 "cells": [
  {
   "cell_type": "markdown",
   "metadata": {},
   "source": [
    "# Aula 5: Autenticação e Segurança"
   ]
  },
  {
   "cell_type": "markdown",
   "metadata": {},
   "source": [
    "falar cobre limite de requisições"
   ]
  },
  {
   "cell_type": "markdown",
   "metadata": {},
   "source": [
    "### SEGURANÇA DE APIs\n",
    "\n",
    "Uma das maneiras de colocar segurança nas suas APIs, é colocando um limite de requisições, pois imagine que seu servidor suporta 1000 requsições e aí recebe 1001? NESTE EXATO MOMENTO ELE CAI, portanto você deve adicionar limite para evitar queda no seu servidor. \n",
    "\n",
    "A outra é fazendo autenticação. A forma mais comum de autenticação é usando TOKENS. O cliente cria uma conta na sua aplicação e envia este no corpo da requisição para realizar a autenticação."
   ]
  },
  {
   "cell_type": "markdown",
   "metadata": {},
   "source": [
    "## Conceitos de autenticação e autorização.\n"
   ]
  },
  {
   "cell_type": "markdown",
   "metadata": {},
   "source": [
    "## Introdução ao OAuth2 e Tokens JWT.\n"
   ]
  },
  {
   "cell_type": "markdown",
   "metadata": {},
   "source": [
    "## Configurando autenticação com FastAPI.\n"
   ]
  },
  {
   "cell_type": "markdown",
   "metadata": {},
   "source": [
    "## Proteção de rotas com JWT.\n"
   ]
  },
  {
   "cell_type": "markdown",
   "metadata": {},
   "source": [
    "## Atividade prática: Adicionar autenticação e proteção de rotas na API de tarefas.\n",
    "\n"
   ]
  },
  {
   "cell_type": "markdown",
   "metadata": {},
   "source": []
  },
  {
   "cell_type": "markdown",
   "metadata": {},
   "source": []
  },
  {
   "cell_type": "markdown",
   "metadata": {},
   "source": []
  }
 ],
 "metadata": {
  "language_info": {
   "name": "python"
  }
 },
 "nbformat": 4,
 "nbformat_minor": 2
}
