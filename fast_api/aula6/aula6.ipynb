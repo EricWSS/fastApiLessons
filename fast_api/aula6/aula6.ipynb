{
 "cells": [
  {
   "cell_type": "markdown",
   "metadata": {},
   "source": [
    "# Revisão:"
   ]
  },
  {
   "cell_type": "markdown",
   "metadata": {},
   "source": [
    "## Middleware"
   ]
  },
  {
   "cell_type": "markdown",
   "metadata": {},
   "source": [
    "Middleware é uma função que intercepta e processa as requisições e respostas no ciclo de vida de uma aplicação. Ele permite adicionar funcionalidades (como autenticação, logs, ou limitação de requisições) sem modificar diretamente as rotas.\n",
    "\n",
    "### Como funciona o fluxo no FastAPI?\n",
    "\n",
    "1. Cliente faz a requisição.\n",
    "2. Middleware processa a requisição antes de chegar à rota.\n",
    "3. Após o processamento, o middleware envia a resposta de volta.\n",
    "\n",
    "### Por que usar Middlewares?\n",
    "\n",
    "- Centraliza regras e configurações, como autenticação ou segurança.\n",
    "- Reduz duplicação de código em rotas.\n",
    "- Torna o sistema modular e escalável.\n",
    "\n",
    "### Como configurar um Middleware no FastAPI\n",
    "\n",
    "Middlewares no FastAPI são configurados com o decorador _@app.middleware_.\n",
    "\n",
    "```python\n",
    "from fastapi import FastAPI, Request\n",
    "from starlette.responses import Response\n",
    "\n",
    "app = FastAPI()\n",
    "\n",
    "@app.middleware(\"http\")\n",
    "async def add_custom_header(request: Request, call_next):\n",
    "    # Processa a requisição antes de enviar para as rotas\n",
    "    response = await call_next(request)\n",
    "    # Modifica a resposta antes de enviá-la ao cliente\n",
    "    response.headers[\"X-Custom-Header\"] = \"FastAPI Middleware\"\n",
    "    return response\n",
    "\n",
    "@app.get(\"/\")\n",
    "async def root():\n",
    "    return {\"message\": \"Bem-vindo ao middleware básico!\"}\n",
    "```\n",
    "\n"
   ]
  },
  {
   "cell_type": "markdown",
   "metadata": {},
   "source": [
    "## Rate Limiting "
   ]
  },
  {
   "cell_type": "markdown",
   "metadata": {},
   "source": [
    "\n",
    "\n",
    "Rate Limiting é crucial para proteger APIs contra abuso, controlar a carga do sistema e evitar excessos de requisições. Para o FastAPI, há várias formas de implementar Rate Limiting.\n",
    "\n",
    "\n",
    "### Por que usar Rate Limiting?\n",
    "\n",
    "- Prevenir ataques de DDoS ou brute force.\n",
    "- Melhorar o desempenho geral.\n",
    "- Garantir que recursos sejam acessíveis a todos os usuários de forma equilibrada.\n",
    "\n",
    "```bash\n",
    "pip install slowapi\n",
    "```\n",
    "\n",
    "\n",
    "```python\n",
    "from fastapi import FastAPI, Request, HTTPException\n",
    "from slowapi import Limiter\n",
    "from slowapi.util import get_remote_address\n",
    "from slowapi.errors import RateLimitExceeded\n",
    "from starlette.responses import JSONResponse\n",
    "\n",
    "# Criação do app\n",
    "app = FastAPI()\n",
    "\n",
    "# Configurando o limiter\n",
    "limiter = Limiter(key_func=get_remote_address)\n",
    "\n",
    "# Integrando o Limiter ao FastAPI\n",
    "@app.middleware(\"http\")\n",
    "async def rate_limit_middleware(request: Request, call_next):\n",
    "    try:\n",
    "        response = await limiter.limit(\"5/minute\")(call_next)(request)\n",
    "        return response\n",
    "    except RateLimitExceeded as e:\n",
    "        return JSONResponse(\n",
    "            status_code=429,\n",
    "            content={\"detail\": \"Too Many Requests\"},\n",
    "        )\n",
    "\n",
    "# Rotas\n",
    "@app.get(\"/\")\n",
    "@limiter.limit(\"10/minute\")\n",
    "async def root():\n",
    "    return {\"message\": \"Bem-vindo! Você pode acessar esta rota 10 vezes por minuto.\"}\n",
    "\n",
    "@app.get(\"/custom\")\n",
    "@limiter.limit(\"3/minute\")\n",
    "async def custom_limit():\n",
    "    return {\"message\": \"Esta rota tem um limite personalizado de 3 requisições por minuto.\"}\n",
    "```\n",
    "\n"
   ]
  },
  {
   "cell_type": "markdown",
   "metadata": {},
   "source": [
    "### Personalização de Rate Limiting\n",
    "\n",
    "- Definir diferentes limites por rota: Use decoradores como _@limiter.limit(\"50/hour\")_ ou _@limiter.limit(\"1/second\")_.\n",
    "\n",
    "- Exceções específicas: Permita que algumas rotas sejam ilimitadas:\n",
    "    ```python\n",
    "    @limiter.exempt\n",
    "    @app.get(\"/health\")\n",
    "    async def health_check():\n",
    "        return {\"status\": \"OK\"}\n",
    "    ```\n",
    "\n",
    "\n"
   ]
  },
  {
   "cell_type": "markdown",
   "metadata": {},
   "source": [
    "## Gerenciamento de Permissões (RBAC)"
   ]
  },
  {
   "cell_type": "markdown",
   "metadata": {},
   "source": [
    "\n",
    "\n",
    "_Role-Based Access Control_ é o controle baseado em papéis (roles), permitindo ou negando acesso às rotas de acordo com as permissões de cada papel.\n",
    "\n",
    "```python\n",
    "from fastapi import FastAPI, Request, HTTPException\n",
    "\n",
    "app = FastAPI()\n",
    "\n",
    "@app.middleware(\"http\")\n",
    "async def rbac_middleware(request: Request, call_next):\n",
    "    role = request.headers.get(\"X-Role\")\n",
    "    if not role:\n",
    "        raise HTTPException(status_code=403, detail=\"Role não fornecido\")\n",
    "    \n",
    "    # Verifique permissões baseadas no papel\n",
    "    if request.url.path == \"/admin\" and role != \"admin\":\n",
    "        raise HTTPException(status_code=403, detail=\"Acesso negado para este papel\")\n",
    "    \n",
    "    response = await call_next(request)\n",
    "    return response\n",
    "\n",
    "@app.get(\"/\")\n",
    "async def root():\n",
    "    return {\"message\": \"Rota pública\"}\n",
    "\n",
    "@app.get(\"/admin\")\n",
    "async def admin_route():\n",
    "    return {\"message\": \"Bem-vindo, Admin!\"}\n",
    "```\n"
   ]
  },
  {
   "cell_type": "markdown",
   "metadata": {},
   "source": [
    "## Rate Limiting com Middleware"
   ]
  },
  {
   "cell_type": "markdown",
   "metadata": {},
   "source": [
    "```python\n",
    "from fastapi import FastAPI, Request, HTTPException\n",
    "from slowapi import Limiter\n",
    "from slowapi.util import get_remote_address\n",
    "from slowapi.errors import RateLimitExceeded\n",
    "from starlette.responses import JSONResponse\n",
    "\n",
    "app = FastAPI()\n",
    "\n",
    "# Configurando o Limiter\n",
    "limiter = Limiter(key_func=get_remote_address)\n",
    "\n",
    "@app.middleware(\"http\")\n",
    "async def combined_middleware(request: Request, call_next):\n",
    "    # RBAC\n",
    "    role = request.headers.get(\"X-Role\")\n",
    "    if not role:\n",
    "        raise HTTPException(status_code=403, detail=\"Role não fornecido\")\n",
    "    if request.url.path == \"/admin\" and role != \"admin\":\n",
    "        raise HTTPException(status_code=403, detail=\"Acesso negado\")\n",
    "\n",
    "    # Rate Limiting\n",
    "    try:\n",
    "        response = await limiter.limit(\"5/minute\")(call_next)(request)\n",
    "        return response\n",
    "    except RateLimitExceeded:\n",
    "        return JSONResponse(\n",
    "            status_code=429,\n",
    "            content={\"detail\": \"Too Many Requests\"}\n",
    "        )\n",
    "\n",
    "@app.get(\"/\")\n",
    "async def public_route():\n",
    "    return {\"message\": \"Rota pública\"}\n",
    "\n",
    "@app.get(\"/admin\")\n",
    "@limiter.limit(\"2/minute\")\n",
    "async def admin_route():\n",
    "    return {\"message\": \"Bem-vindo, Admin!\"}\n",
    "```"
   ]
  },
  {
   "cell_type": "markdown",
   "metadata": {},
   "source": [
    "## Nova estrutura proposta:\n",
    "\n",
    "├── main.py\n",
    "├── routers/\n",
    "│   ├── tasks.py\n",
    "│   ├── users.py\n",
    "├── models/\n",
    "│   ├── task.py\n",
    "│   ├── user.py\n",
    "├── schemas/\n",
    "│   ├── tasks.py\n",
    "│   ├── users.py\n",
    "├── db/\n",
    "│   ├── database.py\n",
    "├── auth/\n",
    "│   ├── dependencies.py\n",
    "│   ├── jwt_handler.py\n",
    "├── config/\n",
    "│   ├── limiter.py\n",
    "├── middlewares/\n",
    "│   ├── auth.py\n",
    "│   ├── rate_limit.py\n",
    "│   ├── rbac.py\n",
    "├── .venv/\n",
    "├── requirements.txt\n",
    "├── aula6.ipynb\n"
   ]
  },
  {
   "cell_type": "markdown",
   "metadata": {},
   "source": [
    "Pra fazer tudo isso, também precisamos atualizar o banco de dados, o schema e o model do nosso projeto."
   ]
  }
 ],
 "metadata": {
  "kernelspec": {
   "display_name": "Python 3",
   "language": "python",
   "name": "python3"
  },
  "language_info": {
   "name": "python",
   "version": "3.11.9"
  }
 },
 "nbformat": 4,
 "nbformat_minor": 2
}
