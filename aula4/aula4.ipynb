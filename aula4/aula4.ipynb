{
 "cells": [
  {
   "cell_type": "markdown",
   "metadata": {},
   "source": [
    "# Aula 4: Gerenciamento de Dados com FastAPI"
   ]
  },
  {
   "cell_type": "markdown",
   "metadata": {},
   "source": [
    "## Introdução ao SQLAlchemy para FastAPI.\n",
    "\n",
    "O SQLAlchemy é uma biblioteca Python ORM (Object-Relational Mapper) extremamente popular, que permite aos desenvolvedores interagir com bancos de dados relacionais de forma mais intuitiva e Pythonica. Ao invés de escrever consultas SQL cruas, você define modelos de objetos Python que representam as suas tabelas e colunas.\n",
    "\n",
    "O FastAPI é um framework web Python moderno e de alta performance, ideal para construir APIs RESTful. Ele oferece uma série de recursos que facilitam o desenvolvimento de aplicações web, como a validação automática de dados, a documentação interativa da API e a concorrência assíncrona.\n",
    "\n",
    "Por que combinar SQLAlchemy e FastAPI?\n",
    "\n",
    "- Facilidade de uso: O SQLAlchemy abstrai a complexidade da interação com bancos de dados, enquanto o FastAPI simplifica a criação de APIs.\n",
    "\n",
    "- Produtividade: A combinação permite desenvolver APIs rapidamente, com menos código e maior legibilidade.\n",
    "\n",
    "- Tipo segurança: O Pydantic, usado pelo FastAPI, e o SQLAlchemy trabalham juntos para garantir a tipagem estática e a validação dos dados.\n",
    "\n",
    "- Escalabilidade: Tanto o SQLAlchemy quanto o FastAPI são ferramentas robustas e escaláveis, capazes de lidar com aplicações de grande porte."
   ]
  },
  {
   "cell_type": "markdown",
   "metadata": {},
   "source": [
    "### Conceitos Básicos:\n",
    "\n",
    "- Engine: Representa a conexão com o banco de dados.\n",
    "\n",
    "- Session: Uma sessão de trabalho com o banco de dados, onde você pode executar consultas, inserir, atualizar e deletar dados.\n",
    "\n",
    "- Model: Representa uma tabela no banco de dados, definindo os campos e suas propriedades.\n"
   ]
  }
 ],
 "metadata": {
  "kernelspec": {
   "display_name": "Python 3",
   "language": "python",
   "name": "python3"
  },
  "language_info": {
   "name": "python",
   "version": "3.12.1"
  }
 },
 "nbformat": 4,
 "nbformat_minor": 2
}
